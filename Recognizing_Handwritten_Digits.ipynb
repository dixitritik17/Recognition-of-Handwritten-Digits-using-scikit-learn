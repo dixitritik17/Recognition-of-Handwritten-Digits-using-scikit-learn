{
  "nbformat": 4,
  "nbformat_minor": 0,
  "metadata": {
    "colab": {
      "name": "Recognizing Handwritten Digits.ipynb",
      "provenance": [],
      "collapsed_sections": [],
      "authorship_tag": "ABX9TyNl52Jtc6fwMt38MtIIhKpv",
      "include_colab_link": true
    },
    "kernelspec": {
      "name": "python3",
      "display_name": "Python 3"
    },
    "language_info": {
      "name": "python"
    }
  },
  "cells": [
    {
      "cell_type": "markdown",
      "metadata": {
        "id": "view-in-github",
        "colab_type": "text"
      },
      "source": [
        "<a href=\"https://colab.research.google.com/github/dixitritik17/Recognition-of-Handwritten-Digits-using-scikit-learn/blob/main/Recognizing_Handwritten_Digits.ipynb\" target=\"_parent\"><img src=\"https://colab.research.google.com/assets/colab-badge.svg\" alt=\"Open In Colab\"/></a>"
      ]
    },
    {
      "cell_type": "markdown",
      "metadata": {
        "id": "hZUJ34-WIDXO"
      },
      "source": [
        "# **Recognition of Handwritten Digits using scikit-learn**"
      ]
    },
    {
      "cell_type": "markdown",
      "metadata": {
        "id": "l63f3FR8KnPk"
      },
      "source": [
        "### **1. Import Libraries**"
      ]
    },
    {
      "cell_type": "code",
      "metadata": {
        "id": "8K83dpccKlwb"
      },
      "source": [
        "from sklearn import svm\n",
        "import matplotlib.pyplot as plt"
      ],
      "execution_count": null,
      "outputs": []
    },
    {
      "cell_type": "markdown",
      "metadata": {
        "id": "Qd_oAuXIK4Po"
      },
      "source": [
        "### **2. Load Dataset**"
      ]
    },
    {
      "cell_type": "code",
      "metadata": {
        "id": "pLRySGo6Lh3P"
      },
      "source": [
        "from sklearn import datasets\n",
        "ds = datasets.load_digits()"
      ],
      "execution_count": null,
      "outputs": []
    },
    {
      "cell_type": "markdown",
      "metadata": {
        "id": "bQNcYFt0L-Yx"
      },
      "source": [
        "### **3. Analyze the Dataset**"
      ]
    },
    {
      "cell_type": "code",
      "metadata": {
        "colab": {
          "base_uri": "https://localhost:8080/"
        },
        "id": "QXcwNTVINuKE",
        "outputId": "83da4461-9bc9-4580-921e-2ea17bcbe5e0"
      },
      "source": [
        "ds.data.shape"
      ],
      "execution_count": null,
      "outputs": [
        {
          "output_type": "execute_result",
          "data": {
            "text/plain": [
              "(1797, 64)"
            ]
          },
          "metadata": {
            "tags": []
          },
          "execution_count": 112
        }
      ]
    },
    {
      "cell_type": "code",
      "metadata": {
        "colab": {
          "base_uri": "https://localhost:8080/"
        },
        "id": "xqh_LDx8N49d",
        "outputId": "85c78c65-ac2a-4ace-d09a-6c216a07ca3a"
      },
      "source": [
        "ds.target.shape"
      ],
      "execution_count": null,
      "outputs": [
        {
          "output_type": "execute_result",
          "data": {
            "text/plain": [
              "(1797,)"
            ]
          },
          "metadata": {
            "tags": []
          },
          "execution_count": 113
        }
      ]
    },
    {
      "cell_type": "code",
      "metadata": {
        "colab": {
          "base_uri": "https://localhost:8080/"
        },
        "id": "4GYTf-wbMNVq",
        "outputId": "8d0d36d5-a9ac-471a-b9f3-6600a393dbb5"
      },
      "source": [
        "ds.target"
      ],
      "execution_count": null,
      "outputs": [
        {
          "output_type": "execute_result",
          "data": {
            "text/plain": [
              "array([0, 1, 2, ..., 8, 9, 8])"
            ]
          },
          "metadata": {
            "tags": []
          },
          "execution_count": 114
        }
      ]
    },
    {
      "cell_type": "code",
      "metadata": {
        "colab": {
          "base_uri": "https://localhost:8080/"
        },
        "id": "jxnRDzSoMier",
        "outputId": "1e451bc0-5590-4df6-dcf1-345c8f2b9e2c"
      },
      "source": [
        "ds.target.size  "
      ],
      "execution_count": null,
      "outputs": [
        {
          "output_type": "execute_result",
          "data": {
            "text/plain": [
              "1797"
            ]
          },
          "metadata": {
            "tags": []
          },
          "execution_count": 115
        }
      ]
    },
    {
      "cell_type": "code",
      "metadata": {
        "colab": {
          "base_uri": "https://localhost:8080/"
        },
        "id": "SXfoRFXpMxZf",
        "outputId": "d6c89738-832f-4325-cdf1-ff85fc2b80ba"
      },
      "source": [
        "ds.images[9]"
      ],
      "execution_count": null,
      "outputs": [
        {
          "output_type": "execute_result",
          "data": {
            "text/plain": [
              "array([[ 0.,  0., 11., 12.,  0.,  0.,  0.,  0.],\n",
              "       [ 0.,  2., 16., 16., 16., 13.,  0.,  0.],\n",
              "       [ 0.,  3., 16., 12., 10., 14.,  0.,  0.],\n",
              "       [ 0.,  1., 16.,  1., 12., 15.,  0.,  0.],\n",
              "       [ 0.,  0., 13., 16.,  9., 15.,  2.,  0.],\n",
              "       [ 0.,  0.,  0.,  3.,  0.,  9., 11.,  0.],\n",
              "       [ 0.,  0.,  0.,  0.,  9., 15.,  4.,  0.],\n",
              "       [ 0.,  0.,  9., 12., 13.,  3.,  0.,  0.]])"
            ]
          },
          "metadata": {
            "tags": []
          },
          "execution_count": 116
        }
      ]
    },
    {
      "cell_type": "code",
      "metadata": {
        "colab": {
          "base_uri": "https://localhost:8080/",
          "height": 218
        },
        "id": "DNb95-Y8M55a",
        "outputId": "6526daa6-b034-4554-cce5-628d7be39e6f"
      },
      "source": [
        "plt.subplot(1,2,1)\n",
        "plt.imshow(ds.images[4], cmap=plt.cm.gray_r, interpolation='nearest')\n",
        "plt.subplot(1,2,2)\n",
        "plt.imshow(ds.images[7], cmap=plt.cm.gray_r, interpolation='nearest')"
      ],
      "execution_count": null,
      "outputs": [
        {
          "output_type": "execute_result",
          "data": {
            "text/plain": [
              "<matplotlib.image.AxesImage at 0x7f849346fed0>"
            ]
          },
          "metadata": {
            "tags": []
          },
          "execution_count": 117
        },
        {
          "output_type": "display_data",
          "data": {
            "image/png": "[encoded data removed]",
            "text/plain": [
              "<Figure size 432x288 with 2 Axes>"
            ]
          },
          "metadata": {
            "tags": [],
            "needs_background": "light"
          }
        }
      ]
    },
    {
      "cell_type": "markdown",
      "metadata": {
        "id": "T5x0_OhaPAhH"
      },
      "source": [
        "### **4. Defining & Training the model**"
      ]
    },
    {
      "cell_type": "code",
      "metadata": {
        "id": "8c_J1kcXQ5Tk"
      },
      "source": [
        "from sklearn import svm\n",
        "svc = svm.SVC(gamma=0.001, C=100) #gamma and C are parameters"
      ],
      "execution_count": null,
      "outputs": []
    },
    {
      "cell_type": "code",
      "metadata": {
        "colab": {
          "base_uri": "https://localhost:8080/"
        },
        "id": "IZ69YYq1RSHX",
        "outputId": "bb5e8a65-42f8-48e6-e526-e6a3ab7bd3c4"
      },
      "source": [
        "svc.fit(ds.data[1:1787], ds.target[1:1787])"
      ],
      "execution_count": null,
      "outputs": [
        {
          "output_type": "execute_result",
          "data": {
            "text/plain": [
              "SVC(C=100, break_ties=False, cache_size=200, class_weight=None, coef0=0.0,\n",
              "    decision_function_shape='ovr', degree=3, gamma=0.001, kernel='rbf',\n",
              "    max_iter=-1, probability=False, random_state=None, shrinking=True,\n",
              "    tol=0.001, verbose=False)"
            ]
          },
          "metadata": {
            "tags": []
          },
          "execution_count": 120
        }
      ]
    },
    {
      "cell_type": "markdown",
      "metadata": {
        "id": "WnmaVtGZSC1T"
      },
      "source": [
        "### **5. Testing the model**"
      ]
    },
    {
      "cell_type": "markdown",
      "metadata": {
        "id": "9GdnIyh1TVog"
      },
      "source": [
        "## **1.**"
      ]
    },
    {
      "cell_type": "code",
      "metadata": {
        "colab": {
          "base_uri": "https://localhost:8080/"
        },
        "id": "sNeJfvNUSBzG",
        "outputId": "d074f20f-913a-49e5-801f-3e3767f5c865"
      },
      "source": [
        "svc.predict(ds.data[1788:1796])"
      ],
      "execution_count": null,
      "outputs": [
        {
          "output_type": "execute_result",
          "data": {
            "text/plain": [
              "array([4, 8, 8, 4, 9, 0, 8, 9])"
            ]
          },
          "metadata": {
            "tags": []
          },
          "execution_count": 121
        }
      ]
    },
    {
      "cell_type": "code",
      "metadata": {
        "colab": {
          "base_uri": "https://localhost:8080/"
        },
        "id": "N-tEgyHqSPq7",
        "outputId": "c48bd02e-c747-47c8-dd33-0aea0506a91b"
      },
      "source": [
        "ds.target[1788:1796]"
      ],
      "execution_count": null,
      "outputs": [
        {
          "output_type": "execute_result",
          "data": {
            "text/plain": [
              "array([4, 8, 8, 4, 9, 0, 8, 9])"
            ]
          },
          "metadata": {
            "tags": []
          },
          "execution_count": 122
        }
      ]
    },
    {
      "cell_type": "code",
      "metadata": {
        "colab": {
          "base_uri": "https://localhost:8080/"
        },
        "id": "i7m18dlCSeYK",
        "outputId": "33d08300-dc7c-4044-de8d-b575cd90cef2"
      },
      "source": [
        "svc.score(ds.data[1788:1796],ds.target[1788:1796])"
      ],
      "execution_count": null,
      "outputs": [
        {
          "output_type": "execute_result",
          "data": {
            "text/plain": [
              "1.0"
            ]
          },
          "metadata": {
            "tags": []
          },
          "execution_count": 123
        }
      ]
    },
    {
      "cell_type": "markdown",
      "metadata": {
        "id": "kaTEaosRTgvz"
      },
      "source": [
        "## **2.**"
      ]
    },
    {
      "cell_type": "code",
      "metadata": {
        "colab": {
          "base_uri": "https://localhost:8080/"
        },
        "id": "YLIMAQGDTp46",
        "outputId": "7d16304e-4413-4705-b388-0ac21e9d68b5"
      },
      "source": [
        "svc.fit(ds.data[1:1700], ds.target[1:1700])"
      ],
      "execution_count": null,
      "outputs": [
        {
          "output_type": "execute_result",
          "data": {
            "text/plain": [
              "SVC(C=100, break_ties=False, cache_size=200, class_weight=None, coef0=0.0,\n",
              "    decision_function_shape='ovr', degree=3, gamma=0.001, kernel='rbf',\n",
              "    max_iter=-1, probability=False, random_state=None, shrinking=True,\n",
              "    tol=0.001, verbose=False)"
            ]
          },
          "metadata": {
            "tags": []
          },
          "execution_count": 124
        }
      ]
    },
    {
      "cell_type": "code",
      "metadata": {
        "colab": {
          "base_uri": "https://localhost:8080/"
        },
        "id": "9oSRoDC9UFhH",
        "outputId": "3cb63e8e-157f-4766-c788-e8ee4d9a65eb"
      },
      "source": [
        "svc.predict(ds.data[1701:1796])\n"
      ],
      "execution_count": null,
      "outputs": [
        {
          "output_type": "execute_result",
          "data": {
            "text/plain": [
              "array([6, 5, 0, 9, 8, 9, 8, 4, 1, 7, 7, 3, 5, 1, 0, 0, 2, 2, 7, 8, 2, 0,\n",
              "       1, 2, 6, 3, 8, 7, 5, 3, 4, 6, 6, 6, 4, 9, 1, 5, 0, 9, 5, 2, 8, 2,\n",
              "       0, 0, 1, 7, 6, 3, 2, 1, 7, 4, 6, 3, 1, 3, 9, 1, 7, 6, 8, 4, 3, 1,\n",
              "       4, 0, 5, 3, 6, 9, 6, 1, 7, 5, 4, 4, 7, 2, 8, 2, 2, 5, 7, 9, 5, 4,\n",
              "       8, 8, 4, 9, 0, 8, 9])"
            ]
          },
          "metadata": {
            "tags": []
          },
          "execution_count": 125
        }
      ]
    },
    {
      "cell_type": "code",
      "metadata": {
        "colab": {
          "base_uri": "https://localhost:8080/"
        },
        "id": "SjSuGYlqUKN1",
        "outputId": "482cebd2-69f7-453e-f496-331c180cec9b"
      },
      "source": [
        "ds.target[1701:1796]"
      ],
      "execution_count": null,
      "outputs": [
        {
          "output_type": "execute_result",
          "data": {
            "text/plain": [
              "array([6, 5, 0, 9, 8, 9, 8, 4, 1, 7, 7, 3, 5, 1, 0, 0, 2, 2, 7, 8, 2, 0,\n",
              "       1, 2, 6, 3, 3, 7, 3, 3, 4, 6, 6, 6, 4, 9, 1, 5, 0, 9, 5, 2, 8, 2,\n",
              "       0, 0, 1, 7, 6, 3, 2, 1, 7, 4, 6, 3, 1, 3, 9, 1, 7, 6, 8, 4, 3, 1,\n",
              "       4, 0, 5, 3, 6, 9, 6, 1, 7, 5, 4, 4, 7, 2, 8, 2, 2, 5, 7, 9, 5, 4,\n",
              "       8, 8, 4, 9, 0, 8, 9])"
            ]
          },
          "metadata": {
            "tags": []
          },
          "execution_count": 126
        }
      ]
    },
    {
      "cell_type": "code",
      "metadata": {
        "colab": {
          "base_uri": "https://localhost:8080/"
        },
        "id": "nV8U7zHjUORR",
        "outputId": "4bd84e07-2481-4e6f-af3c-bc67c1b28308"
      },
      "source": [
        "svc.score(ds.data[1701:1796],ds.target[1701:1796])"
      ],
      "execution_count": null,
      "outputs": [
        {
          "output_type": "execute_result",
          "data": {
            "text/plain": [
              "0.9789473684210527"
            ]
          },
          "metadata": {
            "tags": []
          },
          "execution_count": 127
        }
      ]
    },
    {
      "cell_type": "markdown",
      "metadata": {
        "id": "V215LpPPThuj"
      },
      "source": [
        "## **3.**"
      ]
    },
    {
      "cell_type": "code",
      "metadata": {
        "colab": {
          "base_uri": "https://localhost:8080/"
        },
        "id": "1MeAr98BUSNC",
        "outputId": "6a118694-c6f2-4ef5-cd94-7fad06b7de4a"
      },
      "source": [
        "svc.fit(ds.data[1:1650], ds.target[1:1650])"
      ],
      "execution_count": null,
      "outputs": [
        {
          "output_type": "execute_result",
          "data": {
            "text/plain": [
              "SVC(C=100, break_ties=False, cache_size=200, class_weight=None, coef0=0.0,\n",
              "    decision_function_shape='ovr', degree=3, gamma=0.001, kernel='rbf',\n",
              "    max_iter=-1, probability=False, random_state=None, shrinking=True,\n",
              "    tol=0.001, verbose=False)"
            ]
          },
          "metadata": {
            "tags": []
          },
          "execution_count": 128
        }
      ]
    },
    {
      "cell_type": "code",
      "metadata": {
        "colab": {
          "base_uri": "https://localhost:8080/"
        },
        "id": "XHm_J7OrUez0",
        "outputId": "ebdc817c-40eb-410c-9406-6f8de673e327"
      },
      "source": [
        "svc.predict(ds.data[1651:1796])"
      ],
      "execution_count": null,
      "outputs": [
        {
          "output_type": "execute_result",
          "data": {
            "text/plain": [
              "array([4, 4, 7, 2, 2, 5, 7, 3, 5, 4, 4, 5, 0, 8, 9, 8, 0, 1, 2, 3, 4, 5,\n",
              "       6, 7, 8, 9, 0, 1, 2, 3, 4, 5, 6, 7, 8, 9, 0, 1, 2, 8, 4, 5, 6, 7,\n",
              "       8, 9, 0, 9, 5, 5, 6, 5, 0, 9, 8, 9, 8, 4, 1, 7, 7, 3, 5, 1, 0, 0,\n",
              "       2, 2, 7, 8, 2, 0, 1, 2, 6, 3, 8, 7, 5, 3, 4, 6, 6, 6, 4, 9, 1, 5,\n",
              "       0, 9, 5, 2, 8, 2, 0, 0, 1, 7, 6, 3, 2, 1, 7, 4, 6, 3, 1, 3, 9, 1,\n",
              "       7, 6, 8, 4, 5, 1, 4, 0, 5, 3, 6, 9, 6, 1, 7, 5, 4, 4, 7, 2, 8, 2,\n",
              "       2, 5, 7, 9, 5, 4, 8, 8, 4, 9, 0, 8, 9])"
            ]
          },
          "metadata": {
            "tags": []
          },
          "execution_count": 129
        }
      ]
    },
    {
      "cell_type": "code",
      "metadata": {
        "colab": {
          "base_uri": "https://localhost:8080/"
        },
        "id": "yK3NzjxzUl6G",
        "outputId": "605a666d-c61b-48bc-d791-c683517ccaa3"
      },
      "source": [
        "dss.target[1651:1796]"
      ],
      "execution_count": null,
      "outputs": [
        {
          "output_type": "execute_result",
          "data": {
            "text/plain": [
              "array([4, 4, 7, 2, 2, 5, 7, 9, 5, 4, 4, 9, 0, 8, 9, 8, 0, 1, 2, 3, 4, 5,\n",
              "       6, 7, 8, 9, 0, 1, 2, 3, 4, 5, 6, 7, 8, 9, 0, 1, 2, 3, 4, 5, 6, 7,\n",
              "       8, 9, 0, 9, 5, 5, 6, 5, 0, 9, 8, 9, 8, 4, 1, 7, 7, 3, 5, 1, 0, 0,\n",
              "       2, 2, 7, 8, 2, 0, 1, 2, 6, 3, 3, 7, 3, 3, 4, 6, 6, 6, 4, 9, 1, 5,\n",
              "       0, 9, 5, 2, 8, 2, 0, 0, 1, 7, 6, 3, 2, 1, 7, 4, 6, 3, 1, 3, 9, 1,\n",
              "       7, 6, 8, 4, 3, 1, 4, 0, 5, 3, 6, 9, 6, 1, 7, 5, 4, 4, 7, 2, 8, 2,\n",
              "       2, 5, 7, 9, 5, 4, 8, 8, 4, 9, 0, 8, 9])"
            ]
          },
          "metadata": {
            "tags": []
          },
          "execution_count": 130
        }
      ]
    },
    {
      "cell_type": "code",
      "metadata": {
        "colab": {
          "base_uri": "https://localhost:8080/"
        },
        "id": "txtdrCZoUmEz",
        "outputId": "bf0789d2-8087-4884-e3a1-c4da3c488162"
      },
      "source": [
        "svc.score(ds.data[1651:1796],ds.target[1651:1796])"
      ],
      "execution_count": null,
      "outputs": [
        {
          "output_type": "execute_result",
          "data": {
            "text/plain": [
              "0.9586206896551724"
            ]
          },
          "metadata": {
            "tags": []
          },
          "execution_count": 131
        }
      ]
    },
    {
      "cell_type": "markdown",
      "metadata": {
        "id": "tF1lR_7MU0fl"
      },
      "source": [
        "## **Plotting**"
      ]
    },
    {
      "cell_type": "code",
      "metadata": {
        "colab": {
          "base_uri": "https://localhost:8080/",
          "height": 352
        },
        "id": "BKM4tsHyU0JS",
        "outputId": "d9b0b3f0-16dc-49c7-ea9a-b7b8e692e440"
      },
      "source": [
        "fig = plt.figure(figsize=(5,4))\n",
        "ax = fig.add_axes([0,0,1,1])\n",
        "accuracy=[100,97.89473684210527,95.86206896551724]\n",
        "data=['Dataset 1','Dataset 2','Dataset 3']\n",
        "\n",
        "rects = ax.bar(data,accuracy, color='cornflowerblue', edgecolor='black')\n",
        "\n",
        "plt.ylabel('Accuracy (in %)')\n",
        "plt.title('Accuracy comparison for different datasets')\n",
        "plt.show()"
      ],
      "execution_count": null,
      "outputs": [
        {
          "output_type": "display_data",
          "data": {
            "image/png": "[encoded data removed]",
            "text/plain": [
              "<Figure size 360x288 with 1 Axes>"
            ]
          },
          "metadata": {
            "tags": [],
            "needs_background": "light"
          }
        }
      ]
    }
  ]
}